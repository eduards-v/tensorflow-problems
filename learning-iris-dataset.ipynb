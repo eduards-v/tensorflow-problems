{
 "cells": [
  {
   "cell_type": "markdown",
   "metadata": {},
   "source": [
    "### Training model with Iris dataset\n"
   ]
  },
  {
   "cell_type": "code",
   "execution_count": 52,
   "metadata": {},
   "outputs": [],
   "source": [
    "import numpy as np\n",
    "import tensorflow as tf"
   ]
  },
  {
   "cell_type": "code",
   "execution_count": 53,
   "metadata": {},
   "outputs": [],
   "source": [
    "# Tensorflow already have Iris dataset we can use to train our model.\n",
    "# Set contains 2 list:\n",
    "#     1) Length and width data for petal and sepal of each flower sample\n",
    "#     2) 3 dimensional vector of species types. \n",
    "#        Each specy is represented by 0, 1, 2 to be setosa, versicolor and virginica respectively.\n",
    "iris_set = tf.contrib.learn.datasets.load_iris()\n",
    "\n",
    "# print(iris_train.data)\n",
    "# print(iris_train.target)\n"
   ]
  },
  {
   "cell_type": "code",
   "execution_count": 54,
   "metadata": {},
   "outputs": [
    {
     "name": "stdout",
     "output_type": "stream",
     "text": [
      "[3 2 4 1 5]\n",
      "[13 12 14 11 15]\n"
     ]
    }
   ],
   "source": [
    "# Simple example to how shuffle 2 arrays, but maintain \n",
    "# shuffle order for both.\n",
    "# Adopted from https://stackoverflow.com/questions/4601373/better-way-to-shuffle-two-numpy-arrays-in-unison\n",
    "\n",
    "arr1 = [1, 2, 3, 4, 5]\n",
    "arr2 = [11, 12, 13, 14, 15]\n",
    "\n",
    "arr1 =  np.array(arr1)\n",
    "arr2 =  np.array(arr2)\n",
    "\n",
    "randomize = np.arange(len(arr1))\n",
    "np.random.shuffle(randomize)\n",
    "\n",
    "arr1 = arr1[randomize]\n",
    "arr2 = arr2[randomize]\n",
    "\n",
    "print(arr1)\n",
    "print(arr2)"
   ]
  },
  {
   "cell_type": "code",
   "execution_count": 55,
   "metadata": {
    "collapsed": true
   },
   "outputs": [],
   "source": [
    "# Shuffle data to randomly pick train and test sets \n",
    "# to train and test model.\n",
    "\n",
    "data = iris_set.data\n",
    "target = iris_set.target\n",
    "\n",
    "randomize = np.arange(len(iris_train.data))\n",
    "np.random.shuffle(randomize)\n",
    "data = iris_train.data[randomize]\n",
    "target = iris_train.target[randomize]"
   ]
  },
  {
   "cell_type": "code",
   "execution_count": null,
   "metadata": {
    "collapsed": true
   },
   "outputs": [],
   "source": []
  }
 ],
 "metadata": {
  "kernelspec": {
   "display_name": "Python 3",
   "language": "python",
   "name": "python3"
  },
  "language_info": {
   "codemirror_mode": {
    "name": "ipython",
    "version": 3
   },
   "file_extension": ".py",
   "mimetype": "text/x-python",
   "name": "python",
   "nbconvert_exporter": "python",
   "pygments_lexer": "ipython3",
   "version": "3.6.2"
  }
 },
 "nbformat": 4,
 "nbformat_minor": 2
}
