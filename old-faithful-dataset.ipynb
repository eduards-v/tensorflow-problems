{
 "cells": [
  {
   "cell_type": "markdown",
   "metadata": {},
   "source": [
    "#### Load Data Set\n",
    "\n",
    "Use `numpy` library to load old faithful dataset from `.csv`"
   ]
  },
  {
   "cell_type": "code",
   "execution_count": 43,
   "metadata": {
    "collapsed": true
   },
   "outputs": [],
   "source": [
    "import numpy as np\n",
    "\n",
    "eruptions, waitings = np.loadtxt(\"datasets/faithful.csv\", delimiter=\",\", usecols=(1,2),skiprows=1, unpack=True)\n",
    "\n",
    "# print(\"Eruptions: \\n\", eruptions, \"\\n\\n\", \"Waitings: \\n\", waitings) "
   ]
  },
  {
   "cell_type": "markdown",
   "metadata": {},
   "source": [
    "#### Plot a points to a graph\n",
    "\n",
    "Use `mathplotlib.pyplot` to plot points to a graph"
   ]
  },
  {
   "cell_type": "code",
   "execution_count": 44,
   "metadata": {},
   "outputs": [
    {
     "data": {
      "image/png": "[encoded data removed]",
      "text/plain": [
       "<matplotlib.figure.Figure at 0x1704eba6c18>"
      ]
     },
     "metadata": {},
     "output_type": "display_data"
    }
   ],
   "source": [
    "import matplotlib.pyplot as pl\n",
    "\n",
    "pl.plot(eruptions, waitings, '.')\n",
    "pl.show()"
   ]
  },
  {
   "cell_type": "markdown",
   "metadata": {},
   "source": [
    "#### Using Tensorflow"
   ]
  },
  {
   "cell_type": "code",
   "execution_count": 45,
   "metadata": {},
   "outputs": [],
   "source": [
    "import tensorflow as tf\n",
    "\n",
    "W = tf.Variable([.3])\n",
    "b = tf.Variable([-.3])\n",
    "x = tf.placeholder(tf.float32)\n",
    "y = tf.placeholder(tf.float32)\n",
    "linear_model = W * x + b\n",
    "\n",
    "sess = tf.Session()\n",
    "init = tf.global_variables_initializer()\n",
    "sess.run(init)\n",
    "\n",
    "sqdel = tf.square(linear_model - y)\n",
    "cost = tf.reduce_sum(sqdel)\n",
    "\n",
    "# print(sess.run(cost, {x: eruptions, y: waitings}))"
   ]
  },
  {
   "cell_type": "markdown",
   "metadata": {},
   "source": [
    "#### Optimization"
   ]
  },
  {
   "cell_type": "code",
   "execution_count": 46,
   "metadata": {
    "collapsed": true
   },
   "outputs": [],
   "source": [
    "optimizer = tf.train.GradientDescentOptimizer(0.00001)\n",
    "train = optimizer.minimize(cost)"
   ]
  },
  {
   "cell_type": "markdown",
   "metadata": {},
   "source": [
    "#### Train using tensorflow"
   ]
  },
  {
   "cell_type": "code",
   "execution_count": 47,
   "metadata": {},
   "outputs": [
    {
     "name": "stdout",
     "output_type": "stream",
     "text": [
      "[array([ 1.70464921], dtype=float32), array([ 0.08161995], dtype=float32), 1182806.1]\n",
      "[array([ 2.99918628], dtype=float32), array([ 0.43451267], dtype=float32), 1009807.4]\n",
      "[array([ 4.19222069], dtype=float32), array([ 0.76092374], dtype=float32), 862799.81]\n",
      "[array([ 5.29168797], dtype=float32), array([ 1.06292307], dtype=float32), 737877.75]\n",
      "[array([ 6.30490446], dtype=float32), array([ 1.34241867], dtype=float32), 631723.19]\n",
      "[array([ 7.23861361], dtype=float32), array([ 1.60116959], dtype=float32), 541515.69]\n",
      "[array([ 8.09903145], dtype=float32), array([ 1.84079719], dtype=float32), 464859.31]\n",
      "[array([ 8.89188957], dtype=float32), array([ 2.06279588], dtype=float32), 399717.88]\n",
      "[array([ 9.62246895], dtype=float32), array([ 2.26854372], dtype=float32), 344361.25]\n",
      "[array([ 10.29563999], dtype=float32), array([ 2.45931053], dtype=float32), 297319.09]\n",
      "[array([ 10.91589069], dtype=float32), array([ 2.63626719], dtype=float32), 257342.13]\n",
      "[array([ 11.48735905], dtype=float32), array([ 2.80049276], dtype=float32), 223368.81]\n",
      "[array([ 12.0138588], dtype=float32), array([ 2.95298219], dtype=float32), 194497.0]\n",
      "[array([ 12.49890709], dtype=float32), array([ 3.09465265], dtype=float32), 169960.16]\n",
      "[array([ 12.94574356], dtype=float32), array([ 3.22634935], dtype=float32), 149106.97]\n",
      "[array([ 13.35735703], dtype=float32), array([ 3.34885144], dtype=float32), 131383.92]\n",
      "[array([ 13.73650074], dtype=float32), array([ 3.46287727], dtype=float32), 116320.66]\n",
      "[array([ 14.08571434], dtype=float32), array([ 3.56908917], dtype=float32), 103517.55]\n",
      "[array([ 14.40733719], dtype=float32), array([ 3.6680975], dtype=float32), 92635.016]\n",
      "[array([ 14.70352745], dtype=float32), array([ 3.76046491], dtype=float32), 83384.469]\n",
      "[array([ 14.97627258], dtype=float32), array([ 3.84670997], dtype=float32), 75520.711]\n",
      "[array([ 15.2274065], dtype=float32), array([ 3.92731094], dtype=float32), 68835.344]\n",
      "[array([ 15.45861912], dtype=float32), array([ 4.00270844], dtype=float32), 63151.313]\n",
      "[array([ 15.67146778], dtype=float32), array([ 4.07330894], dtype=float32), 58318.176]\n",
      "[array([ 15.86738873], dtype=float32), array([ 4.13948679], dtype=float32), 54208.066]\n",
      "[array([ 16.0477066], dtype=float32), array([ 4.20158768], dtype=float32), 50712.336]\n",
      "[array([ 16.21364021], dtype=float32), array([ 4.25992918], dtype=float32), 47738.695]\n",
      "[array([ 16.36631393], dtype=float32), array([ 4.31480503], dtype=float32), 45208.707]\n",
      "[array([ 16.50676537], dtype=float32), array([ 4.3664856], dtype=float32), 43055.695]\n",
      "[array([ 16.63595009], dtype=float32), array([ 4.41522026], dtype=float32), 41223.023]\n",
      "[array([ 16.7547493], dtype=float32), array([ 4.46123838], dtype=float32), 39662.566]\n",
      "[array([ 16.86397552], dtype=float32), array([ 4.50475216], dtype=float32), 38333.414]\n",
      "[array([ 16.96437645], dtype=float32), array([ 4.54595709], dtype=float32), 37200.824]\n",
      "[array([ 17.05664253], dtype=float32), array([ 4.58503294], dtype=float32), 36235.266]\n",
      "[array([ 17.14140892], dtype=float32), array([ 4.62214565], dtype=float32), 35411.641]\n",
      "[array([ 17.21926308], dtype=float32), array([ 4.65744781], dtype=float32), 34708.637]\n",
      "[array([ 17.29074669], dtype=float32), array([ 4.69108105], dtype=float32), 34108.109]\n",
      "[array([ 17.35635567], dtype=float32), array([ 4.72317505], dtype=float32), 33594.688]\n",
      "[array([ 17.41655159], dtype=float32), array([ 4.75384951], dtype=float32), 33155.273]\n",
      "[array([ 17.47175598], dtype=float32), array([ 4.78321505], dtype=float32), 32778.75]\n",
      "[array([ 17.52236176], dtype=float32), array([ 4.81137323], dtype=float32), 32455.664]\n",
      "[array([ 17.56872749], dtype=float32), array([ 4.83841801], dtype=float32), 32177.996]\n",
      "[array([ 17.61118317], dtype=float32), array([ 4.86443615], dtype=float32), 31938.932]\n",
      "[array([ 17.65003586], dtype=float32), array([ 4.88950729], dtype=float32), 31732.668]\n",
      "[array([ 17.68556786], dtype=float32), array([ 4.91370487], dtype=float32), 31554.285]\n",
      "[array([ 17.71803856], dtype=float32), array([ 4.9370966], dtype=float32), 31399.578]\n",
      "[array([ 17.74768639], dtype=float32), array([ 4.95974493], dtype=float32), 31265.021]\n",
      "[array([ 17.7747345], dtype=float32), array([ 4.98170757], dtype=float32), 31147.559]\n",
      "[array([ 17.79938507], dtype=float32), array([ 5.00303745], dtype=float32), 31044.645]\n",
      "[array([ 17.82182503], dtype=float32), array([ 5.02378368], dtype=float32), 30954.094]\n",
      "[array([ 17.84222794], dtype=float32), array([ 5.04399109], dtype=float32), 30874.051]\n",
      "[array([ 17.86075401], dtype=float32), array([ 5.06370163], dtype=float32), 30802.939]\n",
      "[array([ 17.87754822], dtype=float32), array([ 5.08295345], dtype=float32), 30739.41]\n",
      "[array([ 17.89274788], dtype=float32), array([ 5.10178185], dtype=float32), 30682.35]\n",
      "[array([ 17.90647697], dtype=float32), array([ 5.12021923], dtype=float32), 30630.762]\n",
      "[array([ 17.91884995], dtype=float32), array([ 5.13829613], dtype=float32), 30583.857]\n",
      "[array([ 17.9299736], dtype=float32), array([ 5.15603971], dtype=float32), 30540.904]\n",
      "[array([ 17.93994713], dtype=float32), array([ 5.17347574], dtype=float32), 30501.334]\n",
      "[array([ 17.94885826], dtype=float32), array([ 5.19062757], dtype=float32), 30464.641]\n",
      "[array([ 17.95679283], dtype=float32), array([ 5.20751715], dtype=float32), 30430.385]\n",
      "[array([ 17.96382523], dtype=float32), array([ 5.22416449], dtype=float32), 30398.203]\n",
      "[array([ 17.97002602], dtype=float32), array([ 5.24058771], dtype=float32), 30367.781]\n",
      "[array([ 17.97546196], dtype=float32), array([ 5.25680399], dtype=float32), 30338.881]\n",
      "[array([ 17.98019218], dtype=float32), array([ 5.27282906], dtype=float32), 30311.258]\n",
      "[array([ 17.984272], dtype=float32), array([ 5.28867674], dtype=float32), 30284.73]\n",
      "[array([ 17.98775291], dtype=float32), array([ 5.30436087], dtype=float32), 30259.143]\n",
      "[array([ 17.99068069], dtype=float32), array([ 5.31989384], dtype=float32), 30234.336]\n",
      "[array([ 17.99309921], dtype=float32), array([ 5.33528662], dtype=float32), 30210.227]\n",
      "[array([ 17.99504852], dtype=float32), array([ 5.3505497], dtype=float32), 30186.672]\n",
      "[array([ 17.99656487], dtype=float32), array([ 5.36569309], dtype=float32), 30163.627]\n",
      "[array([ 17.99768257], dtype=float32), array([ 5.38072538], dtype=float32), 30140.996]\n",
      "[array([ 17.99843407], dtype=float32), array([ 5.39565468], dtype=float32), 30118.734]\n",
      "[array([ 17.99884796], dtype=float32), array([ 5.41048813], dtype=float32), 30096.791]\n",
      "[array([ 17.99894905], dtype=float32), array([ 5.42523336], dtype=float32), 30075.111]\n",
      "[array([ 17.99876404], dtype=float32), array([ 5.43989611], dtype=float32), 30053.66]\n",
      "[array([ 17.9983139], dtype=float32), array([ 5.45448303], dtype=float32), 30032.41]\n",
      "[array([ 17.99761963], dtype=float32), array([ 5.46899891], dtype=float32), 30011.338]\n",
      "[array([ 17.99670029], dtype=float32), array([ 5.48344898], dtype=float32), 29990.408]\n",
      "[array([ 17.99557495], dtype=float32), array([ 5.49783802], dtype=float32), 29969.605]\n",
      "[array([ 17.99425888], dtype=float32), array([ 5.51216984], dtype=float32), 29948.914]\n",
      "[array([ 17.99276733], dtype=float32), array([ 5.52644873], dtype=float32), 29928.326]\n",
      "[array([ 17.99111366], dtype=float32), array([ 5.5406785], dtype=float32), 29907.82]\n",
      "[array([ 17.98931122], dtype=float32), array([ 5.55486202], dtype=float32), 29887.396]\n",
      "[array([ 17.98737144], dtype=float32), array([ 5.56900263], dtype=float32), 29867.035]\n",
      "[array([ 17.98530579], dtype=float32), array([ 5.58310318], dtype=float32), 29846.75]\n",
      "[array([ 17.98312378], dtype=float32), array([ 5.59716606], dtype=float32), 29826.504]\n",
      "[array([ 17.98083496], dtype=float32), array([ 5.61119413], dtype=float32), 29806.314]\n",
      "[array([ 17.97844696], dtype=float32), array([ 5.6251893], dtype=float32), 29786.17]\n",
      "[array([ 17.97596931], dtype=float32), array([ 5.63915348], dtype=float32), 29766.066]\n",
      "[array([ 17.97340775], dtype=float32), array([ 5.65308857], dtype=float32), 29746.008]\n",
      "[array([ 17.97076988], dtype=float32), array([ 5.66699648], dtype=float32), 29725.977]\n",
      "[array([ 17.96806145], dtype=float32), array([ 5.68087912], dtype=float32), 29705.973]\n",
      "[array([ 17.96528816], dtype=float32), array([ 5.69473743], dtype=float32), 29686.014]\n",
      "[array([ 17.96245384], dtype=float32), array([ 5.70857286], dtype=float32), 29666.064]\n",
      "[array([ 17.95956421], dtype=float32), array([ 5.72238684], dtype=float32), 29646.16]\n",
      "[array([ 17.95662498], dtype=float32), array([ 5.73618031], dtype=float32), 29626.281]\n",
      "[array([ 17.95363808], dtype=float32), array([ 5.7499547], dtype=float32), 29606.414]\n",
      "[array([ 17.95060921], dtype=float32), array([ 5.76371098], dtype=float32), 29586.58]\n",
      "[array([ 17.94754219], dtype=float32), array([ 5.77744961], dtype=float32), 29566.77]\n",
      "[array([ 17.94443893], dtype=float32), array([ 5.79117203], dtype=float32), 29546.984]\n"
     ]
    }
   ],
   "source": [
    "for i in range(100):\n",
    "    sess.run(train, {x: eruptions, y: waitings})\n",
    "    print(sess.run([W, b ,cost], {x: eruptions, y: waitings}))"
   ]
  },
  {
   "cell_type": "markdown",
   "metadata": {},
   "source": [
    "#### Plotting "
   ]
  },
  {
   "cell_type": "code",
   "execution_count": 49,
   "metadata": {},
   "outputs": [
    {
     "data": {
      "image/png": "[encoded data removed]",
      "text/plain": [
       "<matplotlib.figure.Figure at 0x1704f063048>"
      ]
     },
     "metadata": {},
     "output_type": "display_data"
    }
   ],
   "source": [
    "W_est = W.eval(sess)\n",
    "b_est = b.eval(sess)\n",
    "\n",
    "i = np.linspace(0, 8, 1000)\n",
    "l = W_est * i + b_est\n",
    "\n",
    "pl.plot(eruptions, waitings, 'k.')\n",
    "pl.plot(i, l, '-b')\n",
    "pl.show()"
   ]
  },
  {
   "cell_type": "code",
   "execution_count": null,
   "metadata": {
    "collapsed": true
   },
   "outputs": [],
   "source": []
  },
  {
   "cell_type": "code",
   "execution_count": null,
   "metadata": {
    "collapsed": true
   },
   "outputs": [],
   "source": []
  }
 ],
 "metadata": {
  "kernelspec": {
   "display_name": "Python 3",
   "language": "python",
   "name": "python3"
  },
  "language_info": {
   "codemirror_mode": {
    "name": "ipython",
    "version": 3
   },
   "file_extension": ".py",
   "mimetype": "text/x-python",
   "name": "python",
   "nbconvert_exporter": "python",
   "pygments_lexer": "ipython3",
   "version": "3.6.2"
  }
 },
 "nbformat": 4,
 "nbformat_minor": 2
}
